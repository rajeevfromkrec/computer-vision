{
  "nbformat": 4,
  "nbformat_minor": 0,
  "metadata": {
    "colab": {
      "name": "yolo v3 part-1.ipynb",
      "provenance": [],
      "authorship_tag": "ABX9TyNc9bogqYYNxkvsk/X/722I",
      "include_colab_link": true
    },
    "kernelspec": {
      "name": "python3",
      "display_name": "Python 3"
    }
  },
  "cells": [
    {
      "cell_type": "markdown",
      "metadata": {
        "id": "view-in-github",
        "colab_type": "text"
      },
      "source": [
        "<a href=\"https://colab.research.google.com/github/rajeevfromkrec/computer-vision/blob/master/yolo_v3_part_1.ipynb\" target=\"_parent\"><img src=\"https://colab.research.google.com/assets/colab-badge.svg\" alt=\"Open In Colab\"/></a>"
      ]
    },
    {
      "cell_type": "code",
      "metadata": {
        "id": "-gznkivw5_WF",
        "colab_type": "code",
        "colab": {
          "base_uri": "https://localhost:8080/",
          "height": 391
        },
        "outputId": "7392873e-cbaa-4d83-db5c-35202a1db21a"
      },
      "source": [
        "!wget https://pjreddie.com/media/files/yolov3.weights\n",
        "\n"
      ],
      "execution_count": 2,
      "outputs": [
        {
          "output_type": "stream",
          "text": [
            "--2020-07-12 12:04:52--  https://pjreddie.com/media/files/yolov3.weights\n",
            "Resolving pjreddie.com (pjreddie.com)... 128.208.4.108\n",
            "Connecting to pjreddie.com (pjreddie.com)|128.208.4.108|:443... connected.\n",
            "HTTP request sent, awaiting response... 200 OK\n",
            "Length: 248007048 (237M) [application/octet-stream]\n",
            "Saving to: ‘yolov3.weights’\n",
            "\n",
            "yolov3.weights      100%[===================>] 236.52M  1.43MB/s    in 4m 38s  \n",
            "\n",
            "2020-07-12 12:09:31 (872 KB/s) - ‘yolov3.weights’ saved [248007048/248007048]\n",
            "\n",
            "--2020-07-12 12:09:32--  https://github.com/pjreddie/darknet/blob/master/data/coco.names\n",
            "Resolving github.com (github.com)... 140.82.113.4\n",
            "Connecting to github.com (github.com)|140.82.113.4|:443... connected.\n",
            "HTTP request sent, awaiting response... 200 OK\n",
            "Length: unspecified [text/html]\n",
            "Saving to: ‘coco.names.1’\n",
            "\n",
            "coco.names.1            [ <=>                ]  93.79K  --.-KB/s    in 0.08s   \n",
            "\n",
            "2020-07-12 12:09:33 (1.22 MB/s) - ‘coco.names.1’ saved [96039]\n",
            "\n"
          ],
          "name": "stdout"
        }
      ]
    },
    {
      "cell_type": "code",
      "metadata": {
        "id": "bMj9UCBv6BqX",
        "colab_type": "code",
        "colab": {
          "base_uri": "https://localhost:8080/",
          "height": 34
        },
        "outputId": "e3938e03-f40a-400e-e0c1-02bbac420afb"
      },
      "source": [
        "!git clone https://github.com/pjreddie/darknet.git"
      ],
      "execution_count": 11,
      "outputs": [
        {
          "output_type": "stream",
          "text": [
            "fatal: destination path 'darknet' already exists and is not an empty directory.\n"
          ],
          "name": "stdout"
        }
      ]
    },
    {
      "cell_type": "code",
      "metadata": {
        "id": "64TLzj-x6kha",
        "colab_type": "code",
        "colab": {}
      },
      "source": [
        "import os\n",
        "!cp ./darknet/cfg/yolov3.cfg ./yolov3.cfg\n",
        "!cp ./darknet/data/coco.names ./coco.names\n"
      ],
      "execution_count": 16,
      "outputs": []
    },
    {
      "cell_type": "code",
      "metadata": {
        "id": "y0acwwT07onp",
        "colab_type": "code",
        "colab": {}
      },
      "source": [
        "!cat coco.names"
      ],
      "execution_count": null,
      "outputs": []
    },
    {
      "cell_type": "code",
      "metadata": {
        "id": "KZr2COxL6tv2",
        "colab_type": "code",
        "colab": {}
      },
      "source": [
        "import tensorflow as tf\n",
        "from tensorflow.keras import model\n",
        "from tensorflow.keras.layers import BatchNormalization, Conv2D, Input,ZeroPadding2D,LeakyReLU,UpSampling2D\n"
      ],
      "execution_count": null,
      "outputs": []
    },
    {
      "cell_type": "code",
      "metadata": {
        "id": "RkqWoNmR68sX",
        "colab_type": "code",
        "colab": {}
      },
      "source": [
        "def parse_cfg(cfgfile):\n",
        "  with open(cfgfile,'r' ) as file:\n",
        "    lines = [line.rstrip('\\n') for line in file if line != '\\n' and line[0] != '#']\n",
        "  holder= {}\n",
        "  blocks= []\n",
        "  for line in lines:\n",
        "    if line[0]=='[':\n",
        "      line='type=' + line[1:-1].rstrip()\n",
        "      if len(holder)!=0:\n",
        "        blocks.append(holder)\n",
        "        holder={}\n",
        "    key,value= line.split('=')\n",
        "    holder[key.rstrip()] = value.lstrip() \n",
        "  blocks.append(holder) \n",
        "  return blocks                 \n",
        "\n",
        "fblocks= parse_cfg('yolov3.cfg') \n",
        "\n",
        "print(fblocks)"
      ],
      "execution_count": null,
      "outputs": []
    },
    {
      "cell_type": "code",
      "metadata": {
        "id": "xDvX8_qg69-6",
        "colab_type": "code",
        "colab": {}
      },
      "source": [
        "def YOLOV3net(cfgfile,model_size,num_classes):\n",
        "  blocks=parse_cfg(cfgfile)\n",
        "  output= {}\n",
        "  output_filters=[]\n",
        "  filters=[]\n",
        "  scale=0\n",
        "  inputs=input_image=Input(shape=model_size)\n",
        "  inputs=inputs/255"
      ],
      "execution_count": null,
      "outputs": []
    }
  ]
}